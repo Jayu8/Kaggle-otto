{
 "cells": [
  {
   "cell_type": "code",
   "execution_count": 4,
   "metadata": {},
   "outputs": [
    {
     "name": "stdout",
     "output_type": "stream",
     "text": [
      "loss WITHOUT calibration :  0.608948418655\n",
      "loss WITH calibration :  0.497950009702\n",
      " \n",
      "Conclusion : in our case, calibration improved performance a lot ! (reduced loss)\n"
     ]
    }
   ],
   "source": [
    "import pandas as pd\n",
    "import sklearn\n",
    "from sklearn.preprocessing import LabelEncoder\n",
    "from sklearn.cross_validation import train_test_split\n",
    "from sklearn.ensemble import RandomForestClassifier, BaggingClassifier \n",
    "from sklearn.metrics import log_loss\n",
    "from sklearn.calibration import CalibratedClassifierCV\n",
    "\n",
    "# During the Otto Group competition, some Kagglers discussed in the forum about Calibration for Random Forests.\n",
    "# It was a brand new functionality of the last scikit-learn version (0.16) : \n",
    "# see : http://scikit-learn.org/stable/whats_new.html\n",
    "# Calibration makes that the output of the models gives a true probability of a sample to belong to a particular class\n",
    "# For instance, a well calibrated (binary) classifier should classify the samples such that among the samples \n",
    "# to which it gave a predict_proba value close to 0.8, approximately 80% actually belong to the positive class\n",
    "# See http://scikit-learn.org/stable/modules/calibration.html for more details\n",
    "# This script is an example of how to implement calibration, and check if it boosts performance.\n",
    "\n",
    "\n",
    "import os\n",
    "path = r\"C:\\Users\\Jayakrishna Narra\\Documents\\GitHub\\kaggle_otto\\otto\\data\\old\"\n",
    "mypath = os.path.join(path, 'train.csv')\n",
    "\n",
    "\n",
    "# Import Data\n",
    "X = pd.read_csv(mypath)\n",
    "X = X.drop('id', axis=1)\n",
    "\n",
    "# Extract target\n",
    "# Encode it to make it manageable by ML algo\n",
    "y = X.target.values\n",
    "y = LabelEncoder().fit_transform(y)\n",
    "\n",
    "# Remove target from train, else it's too easy ...\n",
    "X = X.drop('target', axis=1)\n",
    "\n",
    "# Split Train / Test\n",
    "Xtrain, Xtest, ytrain, ytest = train_test_split(X, y, test_size=0.20, random_state=36)\n",
    "\n",
    "# First, we will train and apply a Random Forest WITHOUT calibration\n",
    "# we use a BaggingClassifier to make 5 predictions, and average\n",
    "# because that's what CalibratedClassifierCV do behind the scene,\n",
    "# and we want to compare things fairly, i.e. be sure that averaging several models \n",
    "# is not what explains a performance difference between no calibration, and calibration.\n",
    "\n",
    "clf = RandomForestClassifier(n_estimators=50, n_jobs=-1)\n",
    "clfbag = BaggingClassifier(clf, n_estimators=5)\n",
    "clfbag.fit(Xtrain, ytrain)\n",
    "ypreds = clfbag.predict_proba(Xtest)\n",
    "print(\"loss WITHOUT calibration : \", log_loss(ytest, ypreds, eps=1e-15, normalize=True))\n",
    "\n",
    "# Now, we train and apply a Random Forest WITH calibration\n",
    "# In our case, 'isotonic' worked better than default 'sigmoid'\n",
    "# This is not always the case. Depending of the case, you have to test the two possibilities\n",
    "\n",
    "clf = RandomForestClassifier(n_estimators=50, n_jobs=-1)\n",
    "calibrated_clf = CalibratedClassifierCV(clf, method='isotonic', cv=5)\n",
    "calibrated_clf.fit(Xtrain, ytrain)\n",
    "ypreds = calibrated_clf.predict_proba(Xtest)\n",
    "print(\"loss WITH calibration : \", log_loss(ytest, ypreds, eps=1e-15, normalize=True))\n",
    "\n",
    "print(\" \")\n",
    "print(\"Conclusion : in our case, calibration improved performance a lot ! (reduced loss)\")\n",
    "\n",
    "# We can see that we highly improved performance with calibration (loss is reduced) !\n",
    "# Using calibration helped our team a lot to climb the leaderboard.\n",
    "# In the future competitions, that's for sure, I will not forget to test this trick !"
   ]
  }
 ],
 "metadata": {
  "kernelspec": {
   "display_name": "Python 3",
   "language": "python",
   "name": "python3"
  },
  "language_info": {
   "codemirror_mode": {
    "name": "ipython",
    "version": 3
   },
   "file_extension": ".py",
   "mimetype": "text/x-python",
   "name": "python",
   "nbconvert_exporter": "python",
   "pygments_lexer": "ipython3",
   "version": "3.6.3"
  }
 },
 "nbformat": 4,
 "nbformat_minor": 2
}
